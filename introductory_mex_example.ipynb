{
 "cells": [
  {
   "cell_type": "markdown",
   "metadata": {},
   "source": [
    "# Introduction with a Mars Express Example"
   ]
  },
  {
   "cell_type": "markdown",
   "metadata": {},
   "source": [
    "This is a Python Jupyter Notebook to illustrate a SPICE running example. \n",
    "This could be your very own Python 3 environment, the first thing we will do is indicate that we want the Python package matplotlib to be output in the notebook and to import the SpiceyPy package to use SPICE."
   ]
  },
  {
   "cell_type": "code",
   "execution_count": null,
   "metadata": {},
   "outputs": [],
   "source": [
    "%matplotlib inline\n",
    "\n",
    "import math\n",
    "import spiceypy as spiceypy"
   ]
  },
  {
   "cell_type": "markdown",
   "metadata": {},
   "source": [
    "## A Mars Express Phobos observation example"
   ]
  },
  {
   "cell_type": "markdown",
   "metadata": {},
   "source": [
    "In this first example, we will compute some basic geometry for a Phobos observation by the HRSC camera, more concretely the SRC sensor. We an retrieve the image from the Planetary Science Archive (PSA) User Interface. \n",
    "\n",
    "![title](remote_sensing_lesson/img/HF780_0004_SR2.JPG)\n",
    "\n",
    "From the PDS3 label of the image we obtain:\n",
    "\n",
    "   * PRODUCT_CREATION_TIME             = 2016-10-12T14:44:59.000Z   "
   ]
  },
  {
   "cell_type": "code",
   "execution_count": null,
   "metadata": {},
   "outputs": [],
   "source": [
    "spiceypy.furnsh('/Users/mcosta/SPICE/MARS-EXPRESS/kernels/mk/MEX_OPS_LOCAL.TM')"
   ]
  },
  {
   "cell_type": "markdown",
   "metadata": {},
   "source": [
    "We convert from UTC to Ephemeris Time (ET) the time of the image: 2016-06-14T03:11:56.218Z"
   ]
  },
  {
   "cell_type": "code",
   "execution_count": null,
   "metadata": {},
   "outputs": [],
   "source": [
    "et = spiceypy.utc2et('2016-06-14T03:11:56.208')"
   ]
  },
  {
   "cell_type": "markdown",
   "metadata": {},
   "source": [
    "We obtain the HRSC boresight and boresight reference frame"
   ]
  },
  {
   "cell_type": "code",
   "execution_count": null,
   "metadata": {},
   "outputs": [],
   "source": [
    "sensor_name = 'MEX_HRSC_SRC'\n",
    "\n",
    "sensor_id = spiceypy.bodn2c(sensor_name)\n",
    "(shape, frame, bsight, vectors, bounds) = spiceypy.getfov(sensor_id, 100)\n",
    "\n",
    "print('{} shape:  {}'.format(sensor_name, shape))\n",
    "print('{} frame:  {}'.format(sensor_name, frame))\n",
    "print('{} bsight: {}'.format(sensor_name, bsight))"
   ]
  },
  {
   "cell_type": "markdown",
   "metadata": {},
   "source": [
    "We obtain the intersection between the boresight and Phobos:"
   ]
  },
  {
   "cell_type": "code",
   "execution_count": null,
   "metadata": {},
   "outputs": [],
   "source": [
    "try: \n",
    "    (spoint, trgepc, srfvec ) = spiceypy.sincpt('ELLIPSOID', 'PHOBOS', et, 'IAU_PHOBOS', 'NONE', 'MEX', frame, bsight)\n",
    "except:\n",
    "    print('No intersection found!')"
   ]
  },
  {
   "cell_type": "markdown",
   "metadata": {},
   "source": [
    "Of course, it does not work because we are currently not intersecting the body, so let's look for an moment in time in which there is interception. We can simply modify our vector in the HRSC SRC frame:"
   ]
  },
  {
   "cell_type": "code",
   "execution_count": null,
   "metadata": {},
   "outputs": [],
   "source": [
    "bsight = [-4.64050347,  0.0, 984.73813222]\n",
    "\n",
    "try:\n",
    "    (spoint, trgepc, srfvec ) = spiceypy.sincpt('ELLIPSOID', 'PHOBOS', et, 'IAU_PHOBOS', 'NONE', 'MEX', frame, bsight)\n",
    "except:\n",
    "    print('No intersection found!')"
   ]
  },
  {
   "cell_type": "markdown",
   "metadata": {},
   "source": [
    "Finally we compute the illumination angles"
   ]
  },
  {
   "cell_type": "code",
   "execution_count": null,
   "metadata": {},
   "outputs": [],
   "source": [
    "(trgepc, srfvec, phase, solar, emissn) = spiceypy.ilumin('ELLIPSOID', 'PHOBOS', et, 'IAU_PHOBOS', 'NONE', 'MEX', spoint)\n",
    "\n",
    "print('Phase Angle: {:.3f}     [DEG]\\nSolar Incidence: {:.3f} [DEG]'.format(math.degrees(phase), math.degrees(solar)))"
   ]
  },
  {
   "cell_type": "markdown",
   "metadata": {},
   "source": [
    "But we could load a Digital Shape Model of PHOBOS and assess the difference in illumination by using the shape model. The DSK that we load is as follows:\n",
    "\n",
    "![title](remote_sensing_lesson/img/phobos_dsk.png)"
   ]
  },
  {
   "cell_type": "code",
   "execution_count": null,
   "metadata": {},
   "outputs": [],
   "source": [
    "spiceypy.furnsh('remote_sensing_lesson/kernels/dsk/phobos_k137_dlr_v01.bds')\n",
    "\n",
    "(spoint, trgepc, srfvec ) = spiceypy.sincpt('DSK/UNPRIORITIZED', 'PHOBOS', et, 'IAU_PHOBOS', 'NONE', 'MEX', frame, bsight)\n",
    "(trgepc, srfvec, phase, solar, emissn) = spiceypy.ilumin('DSK/UNPRIORITIZED', 'PHOBOS', et, 'IAU_PHOBOS', 'NONE', 'MEX', spoint)\n",
    "\n",
    "print('Phase Angle: {:.3f}     [DEG]\\nSolar Incidence: {:.3f} [DEG]'.format(math.degrees(phase), math.degrees(solar)))"
   ]
  },
  {
   "cell_type": "markdown",
   "metadata": {},
   "source": [
    "And this is what we would see in Cosmographia:\n",
    "    \n",
    "![title](remote_sensing_lesson/img/cosmo.png)"
   ]
  },
  {
   "cell_type": "markdown",
   "metadata": {},
   "source": [
    "\n",
    "Now, we will show the object oriented capabilities of sciops, aimed to easy the way that we interface with SPICE. \n",
    "We will define a Time Window, Phobos as a target and Mars Express as an observer:"
   ]
  },
  {
   "cell_type": "code",
   "execution_count": null,
   "metadata": {},
   "outputs": [],
   "source": [
    "import spiops as spiops\n",
    "\n",
    "interval = spiops.TimeWindow('2016-11-26T00:07:15', '2016-11-26T10:21:32', resolution=10)\n",
    "\n",
    "phobos = spiops.Target('PHOBOS', time=interval, frame='IAU_PHOBOS')\n",
    "mex = spiops.Observer('MEX', time=interval, target=phobos)"
   ]
  },
  {
   "cell_type": "markdown",
   "metadata": {},
   "source": [
    "The spiops library will plot some geometric quantites at our desire:"
   ]
  },
  {
   "cell_type": "code",
   "execution_count": null,
   "metadata": {},
   "outputs": [],
   "source": [
    "mex.Plot('distance', notebook=True)"
   ]
  },
  {
   "cell_type": "code",
   "execution_count": null,
   "metadata": {},
   "outputs": [],
   "source": [
    "spiceypy.kclear()"
   ]
  }
 ],
 "metadata": {
  "kernelspec": {
   "display_name": "Python 3",
   "language": "python",
   "name": "python3"
  },
  "language_info": {
   "codemirror_mode": {
    "name": "ipython",
    "version": 3
   },
   "file_extension": ".py",
   "mimetype": "text/x-python",
   "name": "python",
   "nbconvert_exporter": "python",
   "pygments_lexer": "ipython3",
   "version": "3.7.4"
  }
 },
 "nbformat": 4,
 "nbformat_minor": 4
}
